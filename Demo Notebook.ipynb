{
 "cells": [
  {
   "cell_type": "code",
   "execution_count": 1,
   "metadata": {
    "ExecuteTime": {
     "end_time": "2017-01-26T15:02:04.314115",
     "start_time": "2017-01-26T15:02:04.304914"
    },
    "collapsed": true
   },
   "outputs": [],
   "source": [
    "from engine.api.cartesian import *\n"
   ]
  },
  {
   "cell_type": "markdown",
   "metadata": {},
   "source": [
    "# Understanding how agents learn through communication\n",
    "\n",
    "Agents can use communication to achieve two kinds of goals.  On one hand, the agent might communicate in order to improve itself.  On the other, multiple agents might work together to solve some problem that no agent could do alone.  Both of these ideas play into the general notion that agents can learn how to attain some goal or minimize a cost.  \n",
    "\n",
    "Presumably, interaction between agents could cause one to change its goals or redefine a cost function.  Agents might also share knowledge or awareness of the environment they exist in with each other. \n",
    "\n",
    "To study the kinds of interactions and the kinds of learning that might happen between multiple agents, I have designed a virtual world that multiple agents can interact in.  This notebook explores some ideas for the world, and outlines possible games or goals we could design for.\n",
    "\n",
    "\n",
    "### Key terms:\n",
    "\n",
    "  - Environment - A virtual world that agents can interact with.  It may provide sensory inputs, like a sense of position in space or a way to send/receive messages.\n",
    "  - Location - A collection of spatial integer coordinates, where each coordinate references a specific position in space.  This is may be a relative or absolute position in space.\n",
    "  - Agent - An piece of code interacts with the environment to perform actions or receive sensory input.\n",
    "\n",
    "\n",
    "  - for slightly more details: engine/base_classes.py\n",
    "\n",
    "## Virtual world:\n",
    "\n",
    "The `CartesianEnvironment` is \n",
    "\n",
    "    A traversable n-dimensional Cartesian coordinate space of pre-defined shape\n",
    "    that defines the ways agents can interact within this space\n",
    "\n",
    "    Agents use the environment to send each other messages,\n",
    "    check the state of the grid, and move to new locations.\n",
    "    \n",
    "Some facts about the traversable space for a CartesianEnvironment:\n",
    "  - A coordinate in n-dimensional space consists of n integers, where each integer corresponds to a discrete location.  2D space is (x, y).  A 3D coordinate is (x, y, z).  \n",
    "  - There are no walls.  For instance, in a 2D space, all 4 corners are connected.\n",
    "  - Coordinates are not used directly or event explicitly defined, but Locations are!  1 or more coordinate may make up a Location.\n",
    "  \n",
    "A Location allows us to define collections of coordinates in coordinate space.  For instance, a location in 2D space might consist of two coordinates: [(0, 0), (0, 1)].  \n",
    "\n",
    "  - `RelLoc`  - A relative location denotes an offset from some undefined reference point.  For instance, (-1, 0) might mean one coordinate above.\n",
    "  - `AbsLoc`  - An absolute location is relative to some assumed reference point.  Therefore, (0, 0) could be origin of a Cartesian Space.\n",
    "\n",
    "\n",
    "## Agents\n",
    "\n",
    "    An agent interacts with the environment to perform actions or receive\n",
    "    sensory input.  It is identifiable by an integer AgentId.\n",
    "\n",
    "    Agents:\n",
    "      - Can exist a Location, so they have many coordinates and in fact can be distributed beings.\n",
    "      - Decide how the query the environment to get information from it.  \n",
    "        - To an Agent, the Environment is just an API.  \n",
    "        - An agent might ask only for relative positioning, or it might be aware of absolute position.\n",
    "        - It might not even know where its own body parts are located, or might have limited knowledge of where other agents are.\n",
    "      - Ask the environment to process requests to move in the space and send messages to other agents.\n",
    "      \n",
    "\n",
    "\n",
    "## Games (not implemented):;\n",
    "\n",
    "1. A Traveling Salesman game: Each coordinate in the Environment must be visited at least once, and all squares should be visited in the minimum number of moves and minimum amount of communication\n",
    "1. Sequence Prediction: Agents can learn to predict the next movements of other agents in the environment\n",
    "1. Self Awareness: A distributed agent (like a column of 3 coordinates) must learn how to move without separating itself.  Once it can do this, it should figure out how to efficiently clean the space.\n",
    "  - Presumably, we could get agents to learn to work together to visit all squares.  for instance a Toroid and a Cylinder in 3D space might learn to travel together.\n",
    "\n",
    "\n",
    "## Tasks:\n",
    "\n",
    "- Build out Cartesian Environment, Location\n",
    "- Design some simple Agents that interact with the space\n",
    "- Implement a way to visualize this space."
   ]
  },
  {
   "cell_type": "markdown",
   "metadata": {},
   "source": [
    "# Simple Example"
   ]
  },
  {
   "cell_type": "code",
   "execution_count": 2,
   "metadata": {
    "ExecuteTime": {
     "end_time": "2017-01-26T15:11:06.072454",
     "start_time": "2017-01-26T15:11:06.051925"
    }
   },
   "outputs": [
    {
     "name": "stdout",
     "output_type": "stream",
     "text": [
      "created agent with ID: 140240950951720\n"
     ]
    }
   ],
   "source": [
    "# Create Cartesian Environment of 2 dimensions, and 9 coordinates\n",
    "env2 = CartesianEnvironment((3, 3))\n",
    "\n",
    "# Create an agent that moves down 1 coordinate at a time.\n",
    "agent = DeterministicAgent([(1,0)])\n",
    "\n",
    "# Place this agent at coordinate (1,1)\n",
    "env2.add_agent(agent.ID, AbsLoc((1,1)))\n",
    "\n",
    "print('created agent with ID: %s' % agent.ID)"
   ]
  },
  {
   "cell_type": "code",
   "execution_count": 3,
   "metadata": {
    "ExecuteTime": {
     "end_time": "2017-01-26T15:11:06.205009",
     "start_time": "2017-01-26T15:11:06.190642"
    }
   },
   "outputs": [
    {
     "data": {
      "text/plain": [
       "array([0, 0, 0, 0, 0, 0, 0, 0, 0])"
      ]
     },
     "execution_count": 3,
     "metadata": {},
     "output_type": "execute_result"
    }
   ],
   "source": [
    "# initially, the agent has visited no coordinates \n",
    "env2.visit_counts()"
   ]
  },
  {
   "cell_type": "code",
   "execution_count": 4,
   "metadata": {
    "ExecuteTime": {
     "end_time": "2017-01-26T15:11:06.328024",
     "start_time": "2017-01-26T15:11:06.312522"
    }
   },
   "outputs": [
    {
     "data": {
      "text/plain": [
       "[(140240950951720, AbsLoc([[1, 1]]))]"
      ]
     },
     "execution_count": 4,
     "metadata": {},
     "output_type": "execute_result"
    }
   ],
   "source": [
    "# Show the location of this agent on the grid\n",
    "list(env2.agents_at_location())"
   ]
  },
  {
   "cell_type": "code",
   "execution_count": 5,
   "metadata": {
    "ExecuteTime": {
     "end_time": "2017-01-26T15:11:06.476969",
     "start_time": "2017-01-26T15:11:06.453789"
    }
   },
   "outputs": [
    {
     "name": "stdout",
     "output_type": "stream",
     "text": [
      "agent locations [AbsLoc([2, 1])]\n",
      "visit counts \n",
      " [0 0 0 0 0 0 0 1 0]\n",
      "agent locations [AbsLoc([0, 1])]\n",
      "visit counts \n",
      " [0 1 0 0 0 0 0 1 0]\n"
     ]
    }
   ],
   "source": [
    "\n",
    "# Have agent interact with its environment twice\n",
    "for _ in range(2):\n",
    "    # It will ask to move down 1 coordinate\n",
    "    agent.next_action(env2)\n",
    "\n",
    "    # Let's see what happened\n",
    "    print('agent locations', list(env2.agent_location(agent.ID)))\n",
    "    print('visit counts', '\\n', env2.visit_counts())"
   ]
  },
  {
   "cell_type": "markdown",
   "metadata": {},
   "source": [
    "### API"
   ]
  },
  {
   "cell_type": "code",
   "execution_count": 6,
   "metadata": {
    "ExecuteTime": {
     "end_time": "2017-01-26T15:11:08.147172",
     "start_time": "2017-01-26T15:11:08.134089"
    }
   },
   "outputs": [
    {
     "name": "stdout",
     "output_type": "stream",
     "text": [
      "add_agent\n",
      "agent_inbox\n",
      "agent_location\n",
      "agent_locations_nearby\n",
      "agents_at_location\n",
      "grid_ndim\n",
      "grid_shape\n",
      "neighbors\n",
      "process_request\n",
      "visit_counts\n",
      "visit_counts_nearby\n"
     ]
    }
   ],
   "source": [
    "print('\\n'.join(x for x in dir(env2) if not x.startswith('_')))"
   ]
  },
  {
   "cell_type": "code",
   "execution_count": 7,
   "metadata": {
    "ExecuteTime": {
     "end_time": "2017-01-26T15:11:08.334987",
     "start_time": "2017-01-26T15:11:08.309479"
    }
   },
   "outputs": [
    {
     "data": {
      "text/plain": [
       "[(140240951047728, AbsLoc([[1, 1],\n",
       "         [2, 1],\n",
       "         [2, 2]]))]"
      ]
     },
     "execution_count": 7,
     "metadata": {},
     "output_type": "execute_result"
    }
   ],
   "source": [
    "import numpy as np\n",
    "env22 = CartesianEnvironment((10,10))\n",
    "\n",
    "ad22 = DeterministicAgent(np.random.randint(-1, 2, (5, 3, 2)))\n",
    "startloc = AbsLoc(np.random.randint(0, 3, (3, 2)), 2)\n",
    "env22.add_agent(ad22.ID, startloc)\n",
    "list(env22.agents_at_location())"
   ]
  },
  {
   "cell_type": "code",
   "execution_count": 8,
   "metadata": {
    "ExecuteTime": {
     "end_time": "2017-01-26T15:11:09.242983",
     "start_time": "2017-01-26T15:11:09.236637"
    }
   },
   "outputs": [
    {
     "data": {
      "text/plain": [
       "array([0, 1, 0, 0, 0, 0, 0, 0, 0, 0, 0, 1, 0, 0, 0, 0, 0, 0, 0, 0, 0, 0, 0,\n",
       "       0, 0, 0, 0, 0, 0, 0, 0, 0, 0, 1, 0, 0, 0, 0, 0, 0, 0, 0, 0, 0, 0, 0,\n",
       "       0, 0, 0, 0, 0, 0, 0, 0, 0, 0, 0, 0, 0, 0, 0, 0, 0, 0, 0, 0, 0, 0, 0,\n",
       "       0, 0, 0, 0, 0, 0, 0, 0, 0, 0, 0, 0, 0, 0, 0, 0, 0, 0, 0, 0, 0, 0, 0,\n",
       "       0, 0, 0, 0, 0, 0, 0, 0])"
      ]
     },
     "execution_count": 8,
     "metadata": {},
     "output_type": "execute_result"
    }
   ],
   "source": [
    "ad22.next_action(env22)\n",
    "list(env22.agents_at_location())\n",
    "env22.visit_counts()"
   ]
  },
  {
   "cell_type": "code",
   "execution_count": 9,
   "metadata": {
    "ExecuteTime": {
     "end_time": "2017-01-26T15:11:10.455173",
     "start_time": "2017-01-26T15:11:10.438179"
    }
   },
   "outputs": [
    {
     "data": {
      "text/plain": [
       "array([0, 1, 0, 0, 0, 0, 0, 0, 0, 0, 0, 1, 0, 0, 0, 0, 0, 0, 0, 0, 1, 0, 0,\n",
       "       0, 0, 0, 0, 0, 0, 0, 0, 0, 0, 1, 0, 0, 0, 0, 0, 0, 0, 0, 1, 0, 0, 0,\n",
       "       0, 0, 0, 0, 0, 0, 0, 0, 0, 0, 0, 0, 0, 0, 0, 0, 0, 0, 0, 0, 0, 0, 0,\n",
       "       0, 0, 0, 0, 0, 0, 0, 0, 0, 0, 0, 0, 0, 0, 0, 0, 0, 0, 0, 0, 0, 1, 0,\n",
       "       0, 0, 0, 0, 0, 0, 0, 0])"
      ]
     },
     "execution_count": 9,
     "metadata": {},
     "output_type": "execute_result"
    }
   ],
   "source": [
    "ad22.next_action(env22)\n",
    "list(env22.agents_at_location())\n",
    "env22.visit_counts()"
   ]
  },
  {
   "cell_type": "markdown",
   "metadata": {},
   "source": [
    "### 3D grid"
   ]
  },
  {
   "cell_type": "code",
   "execution_count": 10,
   "metadata": {
    "ExecuteTime": {
     "end_time": "2017-01-26T15:16:15.189053",
     "start_time": "2017-01-26T15:16:15.154786"
    }
   },
   "outputs": [
    {
     "name": "stdout",
     "output_type": "stream",
     "text": [
      "[0 0 0 0 0 0 0 0]\n",
      "---\n",
      "[[[0 1]\n",
      "  [0 0]]\n",
      "\n",
      " [[0 0]\n",
      "  [0 0]]]\n",
      "[[[1 1]\n",
      "  [0 0]]\n",
      "\n",
      " [[0 0]\n",
      "  [0 0]]]\n",
      "[[[1 1]\n",
      "  [1 0]]\n",
      "\n",
      " [[0 0]\n",
      "  [0 0]]]\n",
      "[[[1 1]\n",
      "  [1 1]]\n",
      "\n",
      " [[0 0]\n",
      "  [0 0]]]\n",
      "[[[1 1]\n",
      "  [2 1]]\n",
      "\n",
      " [[0 0]\n",
      "  [0 0]]]\n",
      "---\n",
      "[1 1 2 1 0 0 0 0]\n"
     ]
    }
   ],
   "source": [
    "env3 = CartesianEnvironment((2,2,2))\n",
    "a3 = DeterministicAgent([\n",
    "        RelLoc((0,0,1)),\n",
    "        RelLoc((0,0,1)),\n",
    "        RelLoc((0,1,0))\n",
    "        ])\n",
    "\n",
    "env3.add_agent(a3.ID, AbsLoc((0,0,0)))\n",
    "print(env3.visit_counts())\n",
    "\n",
    "print('---')\n",
    "for _ in range(5):\n",
    "    a3.next_action(env3)\n",
    "    print(env3.visit_counts().reshape(env3.grid_shape))\n",
    "print('---') \n",
    "print(env3.visit_counts())"
   ]
  },
  {
   "cell_type": "markdown",
   "metadata": {
    "collapsed": true
   },
   "source": [
    "### Display\n",
    "using OpenGL (via Pyglet)"
   ]
  },
  {
   "cell_type": "code",
   "execution_count": 11,
   "metadata": {},
   "outputs": [],
   "source": [
    "d2 = cartesian_display(env2, scale=(50,50))\n",
    "d2.schedule(agent.next_action, 1, env=env2)\n",
    "d2.run()  # note: the display renders in a window, not in the notebook"
   ]
  },
  {
   "cell_type": "code",
   "execution_count": 12,
   "metadata": {},
   "outputs": [],
   "source": [
    "d22 = cartesian_display(env22, scale=(50,50))\n",
    "d22.schedule(ad22.next_action, 1, env=env22)\n",
    "d22.run()  # note: the display renders in a window, not in the notebook"
   ]
  },
  {
   "cell_type": "code",
   "execution_count": 13,
   "metadata": {},
   "outputs": [],
   "source": [
    "env = CartesianEnvironment((200, 200))\n",
    "\n",
    "a1 = DeterministicAgent(np.random.randint(-1, 2, (1000, 100, 2)))\n",
    "env.add_agent(a1.ID, n_coord=100)\n",
    "a2 = DeterministicAgent(np.random.randint(-1, 2, (10000, 1, 2)))\n",
    "env.add_agent(a2.ID, np.random.randint(0, 200, (1, 2)))\n",
    "\n",
    "d = cartesian_display(env, refresh_interval=1/10, scale=(3, 3),\n",
    "                      visit_counts=True, agents=True)\n",
    "\n",
    "def run_agents(a1, a2, env):\n",
    "    a1.next_action(env)\n",
    "    a2.next_action(env)\n",
    "\n",
    "d.schedule(run_agents, None, a1, a2, env)\n",
    "\n",
    "d.run()  # note: the display renders in a window, not in the notebook\n"
   ]
  },
  {
   "cell_type": "code",
   "execution_count": null,
   "metadata": {
    "collapsed": true
   },
   "outputs": [],
   "source": [
    "env = CartesianEnvironment((500, 500))\n",
    "\n",
    "n_coord = 10\n",
    "a1 = DeterministicAgent(np.random.randint(-1, 2, (70, n_coord, 2)))\n",
    "env.add_agent(a1.ID, n_coord=n_coord)\n",
    "n_coord = 20\n",
    "a2 = DeterministicAgent(np.random.randint(-1, 2, (80, n_coord, 2)))\n",
    "env.add_agent(a2.ID, n_coord=n_coord)\n",
    "\n",
    "d = cartesian_display(env, refresh_interval=1/10, scale=(1, 1),\n",
    "                      visit_counts=True, agents=True)\n",
    "\n",
    "def run_agents(a1, a2, env):\n",
    "    a1.next_action(env)\n",
    "    a2.next_action(env)\n",
    "\n",
    "d.schedule(run_agents, None, a1, a2, env)\n",
    "\n",
    "d.run()  # note: the display renders in a window, not in the notebook"
   ]
  },
  {
   "cell_type": "code",
   "execution_count": 14,
   "metadata": {},
   "outputs": [],
   "source": [
    "#d.window.close()\n",
    "#d1.unschedule()\n",
    "d.unschedule(all_displays=True)"
   ]
  }
 ],
 "metadata": {
  "hide_input": false,
  "kernelspec": {
   "display_name": "Python 3",
   "language": "python",
   "name": "python3"
  },
  "language_info": {
   "codemirror_mode": {
    "name": "ipython",
    "version": 3
   },
   "file_extension": ".py",
   "mimetype": "text/x-python",
   "name": "python",
   "nbconvert_exporter": "python",
   "pygments_lexer": "ipython3",
   "version": "3.6.3"
  },
  "toc": {
   "colors": {
    "hover_highlight": "#DAA520",
    "running_highlight": "#FF0000",
    "selected_highlight": "#FFD700"
   },
   "moveMenuLeft": true,
   "nav_menu": {
    "height": "87px",
    "width": "253px"
   },
   "navigate_menu": true,
   "number_sections": true,
   "sideBar": true,
   "threshold": 4,
   "toc_cell": false,
   "toc_section_display": "block",
   "toc_window_display": false,
   "widenNotebook": false
  }
 },
 "nbformat": 4,
 "nbformat_minor": 1
}
